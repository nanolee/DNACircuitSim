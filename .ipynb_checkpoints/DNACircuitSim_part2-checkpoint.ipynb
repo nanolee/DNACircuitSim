{
 "cells": [
  {
   "cell_type": "markdown",
   "metadata": {},
   "source": [
    "# Simulations for DNA circuits with Python3\n",
    "### Part II Perform the simulations\n",
    "In this part, we will introduce the mathematical fundamentals of the simulative method, followed by the code implementation of the whole reaction.\n",
    "#### 1.1 Second-order reaction\n",
    "In fact, DNA circuits are always composed of DNA strand displacement. And DNA strand displacement can be represented by:\n",
    "\n",
    "$$A + B \\xrightarrow[]{k_a} C + D$$\n",
    "\n",
    "It is observed that the DNA strand displacement is a [second-order reaction](https://en.wikipedia.org/wiki/Second-order_reaction)."
   ]
  },
  {
   "cell_type": "code",
   "execution_count": 1,
   "metadata": {},
   "outputs": [],
   "source": []
  }
 ],
 "metadata": {
  "kernelspec": {
   "display_name": "Python 3",
   "language": "python",
   "name": "python3"
  },
  "language_info": {
   "codemirror_mode": {
    "name": "ipython",
    "version": 3
   },
   "file_extension": ".py",
   "mimetype": "text/x-python",
   "name": "python",
   "nbconvert_exporter": "python",
   "pygments_lexer": "ipython3",
   "version": "3.5.2"
  }
 },
 "nbformat": 4,
 "nbformat_minor": 2
}
