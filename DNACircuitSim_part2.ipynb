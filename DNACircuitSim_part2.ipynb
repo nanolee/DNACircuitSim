{
 "cells": [
  {
   "cell_type": "markdown",
   "metadata": {},
   "source": [
    "# Simulations for DNA circuits with Python3\n",
    "### Part II Perform the simulations\n",
    "In this part, we will introduce the mathematical fundamentals of the simulative method, followed by the code implementation of the whole reaction.\n",
    "#### 1.1 Second-order reaction\n",
    "In fact, DNA circuits are always composed of DNA strand displacement. And DNA strand displacement can be represented by:\n",
    "\n",
    "$$A + B \\xrightarrow[]{k} C + D$$\n",
    "\n",
    "It is observed by researchers that the DNA strand displacement is a kind of [second-order reaction](https://en.wikipedia.org/wiki/Second-order_reaction), where the rate may be proportional to one concentration squared $r = k[A]^2$, or (more commonly) to the product of two concentrations $r = k[A][B]$.\n",
    "\n",
    "note: [X] stands for the concentration of X.\n",
    "\n",
    "The curves of the second-order reaction may look like this (corresponding to the concentration of C in the reaction above, and the reaction occurs in step 100):\n",
    "\n",
    "![](Figs/fig_2_1.png)\n",
    "\n",
    "In this case, the rate equation is: $r = -\\frac{dA}{dt} = -\\frac{dB}{dt} = \\frac{dC}{dt} = \\frac{dD}{dt} = k[A][B]$\n",
    "\n",
    "And at the same time, we have the mass balance equation:\n",
    "\n",
    "$[A_0] - [A] = [B_0] - [B] = [C] = [D]$\n",
    "\n",
    "where $[A_0]$, $[B_0]$ are the initial concentrations of A and B, respectively. For simplicity, we assume the initial concentrations of A and B are the same: \n",
    "\n",
    "$[A_0] = [B_0]$\n",
    "\n",
    "Our goal is to obtain the relationship between the concentration of the product [C] and time t. So we have two methods to address the problem:\n"
   ]
  },
  {
   "cell_type": "markdown",
   "metadata": {},
   "source": [
    "##### Mathematical method, analytic solutions\n",
    "According to the mass balance equation, we can obtain the relationship between A and B:\n",
    "\n",
    "$[B] = [A]$\n",
    "\n",
    "then we have:\n",
    "\n",
    "$\\frac{dA}{dt} = -k[A]^2$\n",
    "\n",
    "$-\\frac{1}{[A]^2} dA = k dt$\n",
    "\n",
    "$\\frac{1}{[A]} = kt + C$\n",
    "\n",
    "When t=0, $[A] = [A_0]$. Therefore, C = $\\frac{1}{[A_0]}$.\n",
    "\n",
    "$[A] = \\frac{[A]_0}{kt[A_0] + 1}$\n",
    "\n",
    "Let k = 10000 $M^{-1}step^{-1}$, $[A_0] = 1 \\mu M$. We can plot the concentration of A:"
   ]
  },
  {
   "cell_type": "code",
   "execution_count": null,
   "metadata": {},
   "outputs": [],
   "source": []
  }
 ],
 "metadata": {
  "kernelspec": {
   "display_name": "Python 3",
   "language": "python",
   "name": "python3"
  },
  "language_info": {
   "codemirror_mode": {
    "name": "ipython",
    "version": 3
   },
   "file_extension": ".py",
   "mimetype": "text/x-python",
   "name": "python",
   "nbconvert_exporter": "python",
   "pygments_lexer": "ipython3",
   "version": "3.5.2"
  }
 },
 "nbformat": 4,
 "nbformat_minor": 2
}
